{
 "cells": [
  {
   "cell_type": "markdown",
   "metadata": {},
   "source": [
    "![SH](squirrel-hill-south-squirrel-hill-pa.jpg)"
   ]
  },
  {
   "cell_type": "markdown",
   "metadata": {},
   "source": [
    "### Introduction:\n",
    "For our project, we decided that we wanted to find the best Pittsburgh neighborhood. We worked together to find three metrics on the PA Data Center website. It took some searching around for us to find which critera we liked best and what we thought constituted to the \n",
    "best neighborhood. I originally considered finding with neighborhood has the most sidewalks but the data set turned out being challenging to work wih so I found the speed bumps data set instead. With each of the metrics, we ended up finding the top five when we realized the \"best\" for each were in no way related to each other.\n",
    "\n",
    "### Metric:\n",
    "Our best neighborhood is whichever one aligns with all three of our metrics; most speed bumps, most city owned properties, and most trees. The data sets we used were: \n",
    "- https://data.wprdc.org/dataset/city-owned-properties\n",
    "- https://data.wprdc.org/dataset/city-trees\n",
    "- https://data.wprdc.org/dataset/city-of-pittsburgh-speed-humps\n",
    "\n",
    "which are all pretty self explanatory\n",
    "\n",
    "### Best Neighborhood:\n",
    "With this metric, it was a little difficult to get all of the neighborhoods to align. The neighborhood with the most speed bumps is Squirrel Hill South. The street with the most trees was in the East Liberty area so we had to use the stree with the second most trees which was in Squirrel Hill South. And the neighborhood with the most city-owned properties is Hazelwood which is the closest neighborhood out the top five for that criteria that was closest to Squirrel Hill South. So therefore, we found that the neighborhood with the most speed bumps, second most amount of trees, and closest to the neighborhood with the most city-owned properties, is Squirrel Hill South.\n",
    "\n",
    "### Conclusion:\n",
    "\n",
    "**Ava**: My personal favorite Pittsburgh neighborhood is East Liberty because of the variety of things to do there is. But when compared to Squrrel Hill South, it doesn't have any speed bumps, and doesn't have a lot of city-owned properties, though it has a lot of trees according to our data. I feel Squirrel Hill South is definetly a better neighborhood data wise, but I find East Liberty more charming.\n",
    "\n",
    "**Justin**:"
   ]
  }
 ],
 "metadata": {
  "language_info": {
   "name": "python"
  }
 },
 "nbformat": 4,
 "nbformat_minor": 2
}
