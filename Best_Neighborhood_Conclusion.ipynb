{
 "cells": [
  {
   "cell_type": "markdown",
   "metadata": {},
   "source": [
    "**Introduction**: For our project, we decided that the best Pittsburgh neighborhood would have the most trees, most speed bumps and the highest \n",
    "number of vacant properties. It took some searching around for us to find which critera we liked best and what we thought constituted to the \n",
    "best neighborhood.\n",
    "\n",
    "**Metric**: Our best neighborhood\n",
    "\n",
    "**Best Neighborhood**:\n",
    "\n",
    "**Conclusion**:"
   ]
  }
 ],
 "metadata": {
  "language_info": {
   "name": "python"
  }
 },
 "nbformat": 4,
 "nbformat_minor": 2
}
