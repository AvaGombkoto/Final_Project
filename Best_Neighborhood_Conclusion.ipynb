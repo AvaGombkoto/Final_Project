{
 "cells": [
  {
   "cell_type": "markdown",
   "metadata": {},
   "source": [
    "### Introduction:\n",
    "For our project, we decided that we wanted to find the best Pittsburgh neighborhood. We worked together to find three metrics on the PA Data Center website. It took some searching around for us to find which critera we liked best and what we thought constituted to the \n",
    "best neighborhood. I originally considered finding what neighborhood has the most sidewalks but the data set turned out being challenging to work wih so I found the speed bumps data set instead. With each of the metrics, we ended up finding the top five when we realized the \"best\" for each were in no way related to each other.\n",
    "\n",
    "### Metric:\n",
    "Our best neighborhood is whichever one aligns with all three of our metrics; most speed bumps, most city owned properties, and most trees. The data sets we used were: \n",
    "- https://data.wprdc.org/dataset/city-owned-properties\n",
    "- https://data.wprdc.org/dataset/city-trees\n",
    "- https://data.wprdc.org/dataset/city-of-pittsburgh-speed-humps\n",
    "\n",
    "which are all pretty self explanatory\n",
    "\n",
    "### Best Neighborhood:\n",
    "With this metric, it was a little difficult to get all of the neighborhoods to align. The neighborhood with the most speed bumps is Squirrel Hill South. The street with the most trees was in the East Liberty area so we had to use the street with the second most trees which is in Squirrel Hill South. And the neighborhood with the most city-owned properties is Hazelwood which is the closest neighborhood, out the top five for that criteria, that was closest to Squirrel Hill South. So therefore, we found that the neighborhood with the most speed bumps, second most amount of trees, and closest to the neighborhood with the most city-owned properties, is Squirrel Hill South.\n",
    "\n",
    "### Conclusion:\n",
    "\n",
    "**Ava**: My personal favorite Pittsburgh neighborhood is East Liberty because of the variety of things there is to do. But when compared to Squrrel Hill South, it doesn't have any speed bumps, and doesn't have a lot of city-owned properties, though it has a lot of trees according to our data. I feel Squirrel Hill South is definetly a better neighborhood data wise, but I find East Liberty more charming.\n",
    "\n",
    "**Justin**: My personal favorite Pittsburgh neighborhood is also East Liberty. Since I've never lived in Pittsburgh before, this was determined through picking the winner of my favorite metric (trees). Since East Liberty was documented as the neighborhood having the most trees, I think it would be a plesant, natural feeling home."
   ]
  },
  {
   "cell_type": "markdown",
   "metadata": {},
   "source": [
    "![squrrel](https://npr.brightspotcdn.com/dims4/default/e0309da/2147483647/strip/true/crop/4032x3024+0+0/resize/880x660!/quality/90/?url=http%3A%2F%2Fnpr-brightspot.s3.amazonaws.com%2F4d%2F54%2F5d8d11f34f4897f33455af125474%2Fsquirrel-hill-3.JPG)"
   ]
  }
 ],
 "metadata": {
  "language_info": {
   "name": "python"
  }
 },
 "nbformat": 4,
 "nbformat_minor": 2
}
