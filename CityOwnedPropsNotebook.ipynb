{
 "cells": [
  {
   "cell_type": "markdown",
   "metadata": {},
   "source": [
    "**Introduction:** For this project, I chose that the best neighborhood in Pittsburgh should have the highest number of vacant properties. This is because a large number of the properties that are vacant and owned by the City of Pittsburgh (all of them in the dataset) are free for public use. This is considered since the best neighborhood in Pittsburgh should have the highest number of properties free for the public to access in addition to create a better feel of openness in the neighborhood."
   ]
  },
  {
   "cell_type": "markdown",
   "metadata": {},
   "source": [
    "**The Metric:** In this metric, the best neighborhood is determined by directly counting the number of properties per each grouped neighborhood. I am using data are taken directly from the city's property management system database.\n",
    "\n",
    "\n",
    "The Metric: Describe your metric, what features are you measuring. What datasets are you using?"
   ]
  },
  {
   "cell_type": "markdown",
   "metadata": {},
   "source": [
    "\n",
    "\n",
    "\n",
    "The Best Neighborhood: Apply the metric from the previous section to determine the best neighborhood in Pittsburgh. Beyond just executing code, provide narrative about why you think this is the best neighborhood. Incorporate a data visualization, perhaps to rank all of the neighborhoods or show a neighborhood’s best-ness over time. The key is to make a data driven argument."
   ]
  },
  {
   "cell_type": "code",
   "execution_count": 6,
   "metadata": {},
   "outputs": [
    {
     "name": "stdout",
     "output_type": "stream",
     "text": [
      "Number of vacant properties per neighborhood:\n",
      "Hazelwood                819\n",
      "Perry South              796\n",
      "Larimer                  516\n",
      "Homewood North           508\n",
      "Perry North              421\n",
      "                        ... \n",
      "Central Lawrenceville      4\n",
      "Glen Hazel                 3\n",
      "Allegheny West             2\n",
      "Friendship                 1\n",
      "Arlington Heights          1\n",
      "Name: neighborhood_name, Length: 89, dtype: int64\n",
      "\n",
      "The neighborhood with the most vacant properties is Hazelwood with 819 properties\n"
     ]
    }
   ],
   "source": [
    "import pandas as pd\n",
    "\n",
    "file = pd.read_csv('properties.csv', dtype={2: str})\n",
    "\n",
    "vacantProps = file[file['class'] == 'Vacant Land']\n",
    "\n",
    "vacantCount = vacantProps['neighborhood_name'].value_counts()\n",
    "\n",
    "print(\"Number of vacant properties per neighborhood:\")\n",
    "print(vacantCount)\n",
    "\n",
    "vacantMost = vacantCount.idxmax()\n",
    "vacantMax = vacantCount.max()\n",
    "\n",
    "print(f\"\\nThe neighborhood with the most vacant properties is {vacantMost} with {vacantMax} properties\")"
   ]
  },
  {
   "cell_type": "markdown",
   "metadata": {},
   "source": [
    "\n",
    "\n",
    "\n",
    "Conclusion: Reflect on how the data driven determination of “best neighborhood” is the same or different from your personal favorite neighborhood. Each member of the group should write their own response to this."
   ]
  }
 ],
 "metadata": {
  "kernelspec": {
   "display_name": "Python 3",
   "language": "python",
   "name": "python3"
  },
  "language_info": {
   "codemirror_mode": {
    "name": "ipython",
    "version": 3
   },
   "file_extension": ".py",
   "mimetype": "text/x-python",
   "name": "python",
   "nbconvert_exporter": "python",
   "pygments_lexer": "ipython3",
   "version": "3.8.3"
  }
 },
 "nbformat": 4,
 "nbformat_minor": 4
}
