{
 "cells": [
  {
   "cell_type": "markdown",
   "metadata": {},
   "source": [
    "For this notebook, I chose that the best neighborhood in Pittsburgh should have the highest number of vacant properties. This is because a large number of the properties that are vacant and owned by the City of Pittsburgh (all of them in the dataset) are free for public use. This is considered since the best neighborhood in Pittsburgh should have the highest number of properties free for the public to access in addition to create a better feel of openness in the neighborhood."
   ]
  },
  {
   "cell_type": "markdown",
   "metadata": {},
   "source": [
    "This neighborhood is determined by directly counting the number of properties per each grouped neighborhood. I am using data taken directly from the city's property management system database. Since all of the properties listed are under management of the City of Pittsburgh, a lot of the vacant land can be classified as public."
   ]
  },
  {
   "cell_type": "markdown",
   "metadata": {},
   "source": [
    "To find this, I am searching through each neighborhood with a calssification of \"vacant\" the grouping them. Once this is done, each neightborhood will have a listed number of vacant lands associated with that neighborhood. "
   ]
  },
  {
   "cell_type": "code",
   "execution_count": 7,
   "metadata": {},
   "outputs": [
    {
     "name": "stdout",
     "output_type": "stream",
     "text": [
      "Top streets with the most vacant properties:\n",
      "neighborhood_name\n",
      "Hazelwood         819\n",
      "Perry South       796\n",
      "Larimer           516\n",
      "Homewood North    508\n",
      "Perry North       421\n",
      "dtype: int64\n"
     ]
    }
   ],
   "source": [
    "import pandas as pd\n",
    "\n",
    "#Reads file as pandas dataframe\n",
    "file = pd.read_csv('properties.csv')\n",
    "\n",
    "#If land is classified as vacant (empty)\n",
    "file = file[file['class'] == 'Vacant Land']\n",
    "\n",
    "#Groups the data by neighborhood then counts the quantity of each\n",
    "vacantProps = file.groupby('neighborhood_name').size()\n",
    "\n",
    "#Sorts the count of each neighborhood from most to last (decending) then isolates the first 5\n",
    "topVacant = vacantProps.sort_values(ascending = False).head(5)\n",
    "\n",
    "#Prints the first 5\n",
    "print(\"Top streets with the most vacant properties:\")\n",
    "print(topVacant)"
   ]
  },
  {
   "cell_type": "markdown",
   "metadata": {},
   "source": []
  },
  {
   "cell_type": "code",
   "execution_count": null,
   "metadata": {},
   "outputs": [],
   "source": []
  }
 ],
 "metadata": {
  "kernelspec": {
   "display_name": "Python 3",
   "language": "python",
   "name": "python3"
  },
  "language_info": {
   "codemirror_mode": {
    "name": "ipython",
    "version": 3
   },
   "file_extension": ".py",
   "mimetype": "text/x-python",
   "name": "python",
   "nbconvert_exporter": "python",
   "pygments_lexer": "ipython3",
   "version": "3.8.3"
  }
 },
 "nbformat": 4,
 "nbformat_minor": 4
}
