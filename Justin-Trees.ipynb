{
 "cells": [
  {
   "cell_type": "code",
   "execution_count": 15,
   "metadata": {},
   "outputs": [
    {
     "name": "stdout",
     "output_type": "stream",
     "text": [
      "Number of trees for each neighborhood:\n",
      "street\n",
      "14TH ST          7\n",
      "21ST ST          9\n",
      "26TH ST          5\n",
      "30TH ST          1\n",
      "34TH ST          3\n",
      "                ..\n",
      "ZARA ST         41\n",
      "ZEPHYR AVE      22\n",
      "ZIMMERMAN ST     2\n",
      "ZOLLER ST        3\n",
      "ZULEMA ST        5\n",
      "Length: 1970, dtype: int64\n",
      "The street with the most trees is: PENN AVE with 801 trees\n"
     ]
    }
   ],
   "source": [
    "import pandas as pd\n",
    "\n",
    "df = pd.read_csv('treesdata.csv', dtype={2: str})\n",
    "\n",
    "df = df[df['height'] > 0]\n",
    "\n",
    "treeCount = df.groupby('street').size()\n",
    "\n",
    "maxTrees = treeCount.max()\n",
    "streetMost = treeCount.idxmax()\n",
    "\n",
    "print(\"Number of trees for each neighborhood:\")\n",
    "print(treecount)\n",
    "\n",
    "print(f\"The street with the most trees is: {streetMost} with {maxTrees} trees\")"
   ]
  },
  {
   "cell_type": "code",
   "execution_count": null,
   "metadata": {},
   "outputs": [],
   "source": []
  }
 ],
 "metadata": {
  "kernelspec": {
   "display_name": "Python 3",
   "language": "python",
   "name": "python3"
  },
  "language_info": {
   "codemirror_mode": {
    "name": "ipython",
    "version": 3
   },
   "file_extension": ".py",
   "mimetype": "text/x-python",
   "name": "python",
   "nbconvert_exporter": "python",
   "pygments_lexer": "ipython3",
   "version": "3.8.3"
  }
 },
 "nbformat": 4,
 "nbformat_minor": 4
}
