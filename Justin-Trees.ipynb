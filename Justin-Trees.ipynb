{
 "cells": [
  {
   "cell_type": "code",
   "execution_count": 7,
   "metadata": {},
   "outputs": [
    {
     "name": "stdout",
     "output_type": "stream",
     "text": [
      "The street with the most trees is: PENN AVE with 801 trees\n"
     ]
    }
   ],
   "source": [
    "import pandas as pd\n",
    "\n",
    "file = pd.read_csv('treesdata.csv', dtype={2: str})\n",
    "\n",
    "file = file[file['height'] > 0]\n",
    "\n",
    "treeCount = file.groupby('street').size()\n",
    "\n",
    "maxTrees = treeCount.max()\n",
    "streetMost = treeCount.idxmax()\n",
    "\n",
    "print(f\"The street with the most trees is: {streetMost} with {maxTrees} trees\")"
   ]
  },
  {
   "cell_type": "code",
   "execution_count": null,
   "metadata": {},
   "outputs": [],
   "source": []
  }
 ],
 "metadata": {
  "kernelspec": {
   "display_name": "Python 3",
   "language": "python",
   "name": "python3"
  },
  "language_info": {
   "codemirror_mode": {
    "name": "ipython",
    "version": 3
   },
   "file_extension": ".py",
   "mimetype": "text/x-python",
   "name": "python",
   "nbconvert_exporter": "python",
   "pygments_lexer": "ipython3",
   "version": "3.8.3"
  }
 },
 "nbformat": 4,
 "nbformat_minor": 4
}
